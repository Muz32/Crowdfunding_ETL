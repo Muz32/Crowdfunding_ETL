# Import dependencies
import pandas as pd
import numpy as np
pd.set_option('max_colwidth', 400)





# Read the data into a Pandas DataFrame
crowdfunding_info_df = pd.read_excel('Resources/crowdfunding.xlsx')
crowdfunding_info_df.head()


# Get a brief summary of the crowdfunding_info DataFrame.
crowdfunding_info_df.info()





# Get the crowdfunding_info_df columns.
column_names = crowdfunding_info_df.columns

print(column_names)


# Assign the category and subcategory values to category and subcategory columns.
# Split the "category & subcategory" column into "category" and "subcategory"
crowdfunding_info_df[['category', 'subcategory']] = crowdfunding_info_df['category & sub-category'].str.split('/', expand=True)
crowdfunding_info_df.head()


# Get the unique categories and subcategories in separate lists.
categories = crowdfunding_info_df['category'].unique()
subcategories = crowdfunding_info_df['subcategory'].unique()

print(categories)
print(subcategories)



# Get the number of distinct values in the categories and subcategories lists.
print(len(categories))
print(len(subcategories))


# Create numpy arrays from 1-9 for the categories and 1-24 for the subcategories.
category_ids = np.arange(1, 10)
subcategory_ids = np.arange(1, 25)

print(category_ids)
print(subcategory_ids)


# Use a list comprehension to add "cat" to each category_id. 
cat_ids= ["cat" + str(cat_id) for cat_id in category_ids]

# Use a list comprehension to add "subcat" to each subcategory_id.    
scat_ids= ["subcat" + str(subcat_id) for subcat_id in subcategory_ids]
    
print(cat_ids)
print(scat_ids)


# Create a category DataFrame with the category_id array as the category_id and categories list as the category name.
category_df = pd.DataFrame ({"category_id":cat_ids,"category": categories})

# Create a category DataFrame with the subcategory_id array as the subcategory_id and subcategories list as the subcategory name. 
subcategory_df = pd.DataFrame ({"subcategory_id":scat_ids,"subcategory": subcategories})


category_df


subcategory_df


# Export categories_df and subcategories_df as CSV files.
category_df.to_csv("Resources/category.csv", index=False)

subcategory_df.to_csv("Resources/subcategory.csv", index=False)





# Create a copy of the crowdfunding_info_df DataFrame name campaign_df. 
campaign_df = crowdfunding_info_df.copy()
campaign_df.head()


# Rename the blurb, launched_at, and deadline columns.
campaign_df = campaign_df.rename(columns={
    'blurb': 'description',
    'launched_at': 'launched_date',
    'deadline': 'end_date'
})
campaign_df.head()


# Convert the goal and pledged columns to a `float` data type.
campaign_df['goal']=campaign_df['goal'].astype('float')
campaign_df['pledged']=campaign_df['pledged'].astype('float')
campaign_df.head()


# Check the datatypes
column_data_types = campaign_df.dtypes
print(column_data_types)



# Format the launched_date and end_date columns to datetime format
from datetime import datetime as dt

campaign_df['launched_date'] = pd.to_datetime(campaign_df['launched_date'], unit='s').dt.strftime('%Y-%m-%d')
campaign_df['end_date'] = pd.to_datetime(campaign_df['end_date'], unit='s').dt.strftime('%Y-%m-%d')

campaign_df.head()


# Merge the campaign_df with the category_df on the "category" column and 
# the subcategory_df on the "subcategory" column.

# Merge campaign_df with category_df on the "category" column
campaign_merged_df = campaign_df.merge(category_df, on='category', how='left')

# Merge the resulting DataFrame with subcategory_df on the "subcategory" column
campaign_merged_df = campaign_merged_df.merge(subcategory_df, on='subcategory', how='left')

campaign_merged_df.tail(10)


# Drop unwanted columns
campaign_cleaned = campaign_merged_df.drop(columns=["staff_pick", "spotlight", "category & sub-category", "category", "subcategory"])
campaign_cleaned.head()


# Export the DataFrame as a CSV file. 
campaign_cleaned.to_csv("Resources/campaign.csv", index=False)





# Read the data into a Pandas DataFrame. Use the `header=2` parameter when reading in the data.
contact_info_df = pd.read_excel('Resources/contacts.xlsx', header=3)
contact_info_df.head()








# Iterate through the contact_info_df and convert each row to a dictionary.
import json

# Using list comprehension:
dict_values = [list(json.loads(row[1].iloc[0]).values()) for row in contact_info_df.iloc[0:].iterrows()]

# Print out the list of values for each row.
print(dict_values)


# Create a contact_info DataFrame and add each list of values, i.e., each row
contact_info_column_names = list(json.loads(contact_info_df.iloc[1, 0]).keys())



# to the 'contact_id', 'name', 'email' columns.
contacts_df = pd.DataFrame(dict_values, columns = contact_info_column_names)


# Check the datatypes.
contacts_df.info()
contacts_df


# Create a "first"name" and "last_name" column with the first and last names from the "name" column. 
contacts_df[['first_name', 'last_name']] = contacts_df['name'].str.split(' ', n=1, expand=True)


# Drop the contact_name column
contacts_df.drop(columns=['name'], inplace=True)
contacts_df


# Reorder the columns
contacts_df_clean = contacts_df[['contact_id','first_name','last_name','email']]
contacts_df_clean


# Check the datatypes one more time before exporting as CSV file.
contacts_df_clean.info()


# Export the DataFrame as a CSV file. 
contacts_df_clean.to_csv("Resources/contacts.csv", encoding='utf8', index=False)





contact_info_df_copy = contact_info_df.copy()
contact_info_df_copy.head()


# Extract the four-digit contact ID number.
# "contact_id" matches literal string, \s* whitespace characters,
# (\d{4}) captures exactly four digits (0-9).

p = '"contact_id":\s*(\d{4})'
contact_info_df_copy['contact_id'] = contact_info_df_copy['contact_info'].str.extract(p)
contact_info_df_copy


# Check the datatypes.
contact_info_df_copy.info()


# Convert the "contact_id" column to an int64 data type.
contact_info_df_copy['contact_id'] = contact_info_df_copy['contact_id'].astype('int64', errors='ignore')

contact_info_df_copy.info()


# Extract the name of the contact and add it to a new column.

# "name" matches literal string, \s whitespace characters, 
# \s* zero or more of the preceding element (whitespace characters).
# " matches a literal double quote required as input is a string.
# ([\w\s]+) is capturing a group, 
# [\w\s]+ matches one or more words or whitespace characters.
# \w matches any word character.
# + one or more of preceding element.
# [ ] Square brackets matches any character inside brackets

p = '"name":\s*"([\w\s]+)"'

contact_info_df_copy['name'] = contact_info_df_copy['contact_info'].str.extract(p)

contact_info_df_copy


# Extract the email from the contacts and add the values to a new column.
# "([\w\.\-@]+)" is capturing a group and matches double quotation marks.
# \. matches a dot \- matches a hyphen \@ matches the at symbol
# [\w\.\-@]+ matches one or more of the above characters in the email address.

p = '"email":\s*"([\w\.\-@]+)"'

contact_info_df_copy['email'] = contact_info_df_copy['contact_info'].str.extract(p)

contact_info_df_copy


# Create a copy of the contact_info_df with the 'contact_id', 'name', 'email' columns.
contact_info_df_copy = contact_info_df_copy[['contact_id','name','email']]
contact_info_df_copy


# Create a "first"name" and "last_name" column with the first and last names from the "name" column. 
# (?P<first_name>...) group capture with a reference to the first name of that group.
# ?P<...> is the name of the group.
# \w+ matches one or more word characters.\s whitespace between names.
# (?P<last_name>\w+) Same as above but group is named last_name.

p = '(?P<first_name>\w+)\s(?P<last_name>\w+)'
contact_info_df_copy[['first_name', 'last_name']] = contact_info_df_copy['name'].str.extract(p)

# Drop the contact_name column
contacts_df_clean = contact_info_df_copy.drop(columns=['name'])

contact_info_df_copy


# Reorder the columns
contacts_df_clean = contact_info_df_copy[['contact_id','first_name','last_name','email']]
contacts_df_clean


# Check the datatypes one more time before exporting as CSV file.
contacts_df_clean.info()


# Export the DataFrame as a CSV file. 
contacts_df_clean.to_csv("Resources/contacts.csv", encoding='utf8', index=False)



